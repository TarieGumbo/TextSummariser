{
  "nbformat": 4,
  "nbformat_minor": 0,
  "metadata": {
    "colab": {
      "name": "text_sumarisier.ipynb",
      "provenance": [],
      "include_colab_link": true
    },
    "kernelspec": {
      "name": "python3",
      "display_name": "Python 3"
    },
    "language_info": {
      "name": "python"
    }
  },
  "cells": [
    {
      "cell_type": "markdown",
      "metadata": {
        "id": "view-in-github",
        "colab_type": "text"
      },
      "source": [
        "<a href=\"https://colab.research.google.com/github/TarieGumbo/TextSummariser/blob/main/text_sumarisier.ipynb\" target=\"_parent\"><img src=\"https://colab.research.google.com/assets/colab-badge.svg\" alt=\"Open In Colab\"/></a>"
      ]
    },
    {
      "cell_type": "markdown",
      "source": [
        "# Text Summarisation\n",
        "\n",
        "Recall an earlier notebook where you were given a task to summarise online content and produce a report. We converted an audio file to text. Similarly, we could write a notebook to convert a PDF or Word document to text or Web pages to text. The strategy is to convert everything to text, summarise the text, and use the summary in the final report.\n",
        "\n",
        "# The Challenge\n",
        "\n",
        "Create a project to summarise text and publish the project in Binder. \n",
        "\n",
        "You can choose how to input the text.  Some ideas include pasting it into a string, reading from a file, extract from a PDF or a webpage. \n",
        " \n",
        "It is okay to follow a online tutoirial or youtube video but make sure you have some understanding of what you are doing. You can ask you tutor for help if needed.  They will either help search, or perhaps explain the code in a tutorial.\n",
        "\n",
        "\n",
        "# Task 0 - Initialise a NEW repository\n",
        "\n",
        "We are going to deploy this notebook using Binder.\n",
        "\n",
        "* Initialise a new PUBLIC GitHub repository, say called, text_summariser.\n",
        "* Import this notebook into the new repository\n",
        "\n"
      ],
      "metadata": {
        "id": "SmVEXRTA1wZn"
      }
    },
    {
      "cell_type": "code",
      "source": [
        "!pip install PyPDF2"
      ],
      "metadata": {
        "id": "xG0VRiG-7OYX",
        "outputId": "762a2f05-13ff-40cc-ece2-3660f8ff7bf5",
        "colab": {
          "base_uri": "https://localhost:8080/"
        }
      },
      "execution_count": 2,
      "outputs": [
        {
          "output_type": "stream",
          "name": "stdout",
          "text": [
            "Collecting PyPDF2\n",
            "  Downloading PyPDF2-1.27.9-py3-none-any.whl (71 kB)\n",
            "\u001b[?25l\r\u001b[K     |████▋                           | 10 kB 18.0 MB/s eta 0:00:01\r\u001b[K     |█████████▏                      | 20 kB 11.5 MB/s eta 0:00:01\r\u001b[K     |█████████████▉                  | 30 kB 9.3 MB/s eta 0:00:01\r\u001b[K     |██████████████████▍             | 40 kB 4.5 MB/s eta 0:00:01\r\u001b[K     |███████████████████████         | 51 kB 4.6 MB/s eta 0:00:01\r\u001b[K     |███████████████████████████▋    | 61 kB 5.5 MB/s eta 0:00:01\r\u001b[K     |████████████████████████████████| 71 kB 3.5 MB/s \n",
            "\u001b[?25hInstalling collected packages: PyPDF2\n",
            "Successfully installed PyPDF2-1.27.9\n"
          ]
        }
      ]
    },
    {
      "cell_type": "code",
      "source": [
        "from PyPDF2 import PdfFileReader, PdfFileWriter\n",
        "\n",
        "file_path = 'Video Case Study Essay.pdf'\n",
        "pdf = PdfFileReader(file_path)\n",
        "\n",
        "with open ('Video Case Study Essay.txt ', 'w')as f:\n",
        "    for page_num in range (pdf.numPages):\n",
        "        print('Page : {0}'. format (page_num))\n",
        "        pageObj = pdf.getPage(page_num)\n",
        "\n",
        "        try:\n",
        "            txt = pageObj. extractText()\n",
        "            print (' '.center(100,'-'))\n",
        "        except:\n",
        "            pass\n",
        "        else:\n",
        "            f.write ('Page {0}\\n'. format(page_num + 1)) \n",
        "            f.write( ' '.center(100,'-'))  \n",
        "            f.write(txt)\n",
        "    f.close()             "
      ],
      "metadata": {
        "id": "48RNuGBQIHQ0",
        "colab": {
          "base_uri": "https://localhost:8080/"
        },
        "outputId": "fb4e03c7-80c5-40dd-e798-040b7b8799af"
      },
      "execution_count": 4,
      "outputs": [
        {
          "output_type": "stream",
          "name": "stdout",
          "text": [
            "Page : 0\n",
            "------------------------------------------------- --------------------------------------------------\n",
            "Page : 1\n",
            "------------------------------------------------- --------------------------------------------------\n",
            "Page : 2\n",
            "------------------------------------------------- --------------------------------------------------\n",
            "Page : 3\n",
            "------------------------------------------------- --------------------------------------------------\n",
            "Page : 4\n",
            "------------------------------------------------- --------------------------------------------------\n",
            "Page : 5\n",
            "------------------------------------------------- --------------------------------------------------\n"
          ]
        }
      ]
    }
  ]
}